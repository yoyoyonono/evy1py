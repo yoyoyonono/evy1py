{
 "cells": [
  {
   "cell_type": "code",
   "execution_count": 1,
   "metadata": {},
   "outputs": [],
   "source": [
    "import mido"
   ]
  },
  {
   "cell_type": "code",
   "execution_count": 2,
   "metadata": {},
   "outputs": [],
   "source": [
    "from util import *"
   ]
  },
  {
   "cell_type": "code",
   "execution_count": 3,
   "metadata": {},
   "outputs": [
    {
     "data": {
      "text/plain": [
       "['Microsoft GS Wavetable Synth 0', 'eVY1 MIDI 1']"
      ]
     },
     "execution_count": 3,
     "metadata": {},
     "output_type": "execute_result"
    }
   ],
   "source": [
    "mido.get_output_names()"
   ]
  },
  {
   "cell_type": "code",
   "execution_count": 4,
   "metadata": {},
   "outputs": [
    {
     "data": {
      "text/plain": [
       "<open output 'eVY1 MIDI 1' (RtMidi/WINDOWS_MM)>"
      ]
     },
     "execution_count": 4,
     "metadata": {},
     "output_type": "execute_result"
    }
   ],
   "source": [
    "outport = mido.open_output(mido.get_output_names()[1])\n",
    "outport"
   ]
  },
  {
   "cell_type": "code",
   "execution_count": 5,
   "metadata": {},
   "outputs": [
    {
     "name": "stdout",
     "output_type": "stream",
     "text": [
      "control_change channel=0 control=10 value=64 time=0\n",
      "control_change channel=0 control=7 value=100 time=0\n",
      "pitchwheel channel=0 pitch=0 time=0\n",
      "control_change channel=0 control=101 value=0 time=0\n",
      "control_change channel=0 control=100 value=0 time=0\n",
      "control_change channel=0 control=6 value=12 time=0\n",
      "control_change channel=0 control=10 value=64 time=0\n",
      "control_change channel=0 control=7 value=100 time=0\n",
      "pitchwheel channel=0 pitch=0 time=0\n",
      "program_change channel=0 program=0 time=0\n",
      "control_change channel=0 control=101 value=0 time=0\n",
      "control_change channel=0 control=100 value=0 time=0\n",
      "control_change channel=0 control=6 value=12 time=0\n",
      "control_change channel=0 control=10 value=64 time=0\n",
      "control_change channel=0 control=7 value=100 time=0\n",
      "pitchwheel channel=0 pitch=0 time=0\n",
      "program_change channel=0 program=0 time=0\n",
      "control_change channel=0 control=101 value=0 time=0\n",
      "control_change channel=0 control=100 value=0 time=0\n",
      "control_change channel=0 control=6 value=12 time=0\n",
      "control_change channel=0 control=10 value=64 time=0\n",
      "control_change channel=0 control=7 value=100 time=0\n",
      "pitchwheel channel=0 pitch=0 time=0\n",
      "program_change channel=0 program=0 time=0\n",
      "control_change channel=1 control=10 value=64 time=0\n",
      "control_change channel=1 control=7 value=100 time=0\n",
      "pitchwheel channel=1 pitch=0 time=0\n",
      "control_change channel=1 control=101 value=0 time=0\n",
      "control_change channel=1 control=100 value=0 time=0\n",
      "control_change channel=1 control=6 value=12 time=0\n",
      "control_change channel=1 control=10 value=64 time=0\n",
      "control_change channel=1 control=7 value=100 time=0\n",
      "pitchwheel channel=1 pitch=0 time=0\n",
      "program_change channel=1 program=0 time=0\n",
      "control_change channel=1 control=101 value=0 time=0\n",
      "control_change channel=1 control=100 value=0 time=0\n",
      "control_change channel=1 control=6 value=12 time=0\n",
      "control_change channel=1 control=10 value=64 time=0\n",
      "control_change channel=1 control=7 value=100 time=0\n",
      "pitchwheel channel=1 pitch=0 time=0\n",
      "program_change channel=1 program=0 time=0\n",
      "control_change channel=1 control=101 value=0 time=0\n",
      "control_change channel=1 control=100 value=0 time=0\n",
      "control_change channel=1 control=6 value=12 time=0\n",
      "control_change channel=1 control=10 value=64 time=0\n",
      "control_change channel=1 control=7 value=100 time=0\n",
      "pitchwheel channel=1 pitch=0 time=0\n",
      "program_change channel=1 program=0 time=0\n",
      "control_change channel=2 control=10 value=64 time=0\n",
      "control_change channel=2 control=7 value=100 time=0\n",
      "pitchwheel channel=2 pitch=0 time=0\n",
      "control_change channel=2 control=101 value=0 time=0\n",
      "control_change channel=2 control=100 value=0 time=0\n",
      "control_change channel=2 control=6 value=12 time=0\n",
      "control_change channel=2 control=10 value=64 time=0\n",
      "control_change channel=2 control=7 value=100 time=0\n",
      "pitchwheel channel=2 pitch=0 time=0\n",
      "program_change channel=2 program=0 time=0\n",
      "control_change channel=2 control=101 value=0 time=0\n",
      "control_change channel=2 control=100 value=0 time=0\n",
      "control_change channel=2 control=6 value=12 time=0\n",
      "control_change channel=2 control=10 value=64 time=0\n",
      "control_change channel=2 control=7 value=100 time=0\n",
      "pitchwheel channel=2 pitch=0 time=0\n",
      "program_change channel=2 program=0 time=0\n",
      "control_change channel=2 control=101 value=0 time=0\n",
      "control_change channel=2 control=100 value=0 time=0\n",
      "control_change channel=2 control=6 value=12 time=0\n",
      "control_change channel=2 control=10 value=64 time=0\n",
      "control_change channel=2 control=7 value=100 time=0\n",
      "pitchwheel channel=2 pitch=0 time=0\n",
      "program_change channel=2 program=0 time=0\n",
      "control_change channel=3 control=10 value=64 time=0\n",
      "control_change channel=3 control=7 value=100 time=0\n",
      "pitchwheel channel=3 pitch=0 time=0\n",
      "control_change channel=3 control=101 value=0 time=0\n",
      "control_change channel=3 control=100 value=0 time=0\n",
      "control_change channel=3 control=6 value=12 time=0\n",
      "control_change channel=3 control=10 value=64 time=0\n",
      "control_change channel=3 control=7 value=100 time=0\n",
      "pitchwheel channel=3 pitch=0 time=0\n",
      "program_change channel=3 program=0 time=0\n",
      "control_change channel=3 control=101 value=0 time=0\n",
      "control_change channel=3 control=100 value=0 time=0\n",
      "control_change channel=3 control=6 value=12 time=0\n",
      "control_change channel=3 control=10 value=64 time=0\n",
      "control_change channel=3 control=7 value=100 time=0\n",
      "pitchwheel channel=3 pitch=0 time=0\n",
      "program_change channel=3 program=0 time=0\n",
      "control_change channel=3 control=101 value=0 time=0\n",
      "control_change channel=3 control=100 value=0 time=0\n",
      "control_change channel=3 control=6 value=12 time=0\n",
      "control_change channel=3 control=10 value=64 time=0\n",
      "control_change channel=3 control=7 value=100 time=0\n",
      "pitchwheel channel=3 pitch=0 time=0\n",
      "program_change channel=3 program=0 time=0\n",
      "control_change channel=4 control=10 value=64 time=0\n",
      "control_change channel=4 control=7 value=100 time=0\n",
      "pitchwheel channel=4 pitch=0 time=0\n",
      "control_change channel=4 control=101 value=0 time=0\n",
      "control_change channel=4 control=100 value=0 time=0\n",
      "control_change channel=4 control=6 value=12 time=0\n",
      "control_change channel=4 control=10 value=64 time=0\n",
      "control_change channel=4 control=7 value=100 time=0\n",
      "pitchwheel channel=4 pitch=0 time=0\n",
      "program_change channel=4 program=0 time=0\n",
      "control_change channel=4 control=101 value=0 time=0\n",
      "control_change channel=4 control=100 value=0 time=0\n",
      "control_change channel=4 control=6 value=12 time=0\n",
      "control_change channel=4 control=10 value=64 time=0\n",
      "control_change channel=4 control=7 value=100 time=0\n",
      "pitchwheel channel=4 pitch=0 time=0\n",
      "program_change channel=4 program=0 time=0\n",
      "control_change channel=4 control=101 value=0 time=0\n",
      "control_change channel=4 control=100 value=0 time=0\n",
      "control_change channel=4 control=6 value=12 time=0\n",
      "control_change channel=4 control=10 value=64 time=0\n",
      "control_change channel=4 control=7 value=100 time=0\n",
      "pitchwheel channel=4 pitch=0 time=0\n",
      "program_change channel=4 program=0 time=0\n",
      "control_change channel=5 control=10 value=64 time=0\n",
      "control_change channel=5 control=7 value=100 time=0\n",
      "pitchwheel channel=5 pitch=0 time=0\n",
      "control_change channel=5 control=101 value=0 time=0\n",
      "control_change channel=5 control=100 value=0 time=0\n",
      "control_change channel=5 control=6 value=12 time=0\n",
      "control_change channel=5 control=10 value=64 time=0\n",
      "control_change channel=5 control=7 value=100 time=0\n",
      "pitchwheel channel=5 pitch=0 time=0\n",
      "program_change channel=5 program=0 time=0\n",
      "control_change channel=5 control=101 value=0 time=0\n",
      "control_change channel=5 control=100 value=0 time=0\n",
      "control_change channel=5 control=6 value=12 time=0\n",
      "control_change channel=5 control=10 value=64 time=0\n",
      "control_change channel=5 control=7 value=100 time=0\n",
      "pitchwheel channel=5 pitch=0 time=0\n",
      "program_change channel=5 program=0 time=0\n",
      "control_change channel=5 control=101 value=0 time=0\n",
      "control_change channel=5 control=100 value=0 time=0\n",
      "control_change channel=5 control=6 value=12 time=0\n",
      "control_change channel=5 control=10 value=64 time=0\n",
      "control_change channel=5 control=7 value=100 time=0\n",
      "pitchwheel channel=5 pitch=0 time=0\n",
      "program_change channel=5 program=0 time=0\n",
      "control_change channel=6 control=10 value=64 time=0\n",
      "control_change channel=6 control=7 value=100 time=0\n",
      "pitchwheel channel=6 pitch=0 time=0\n",
      "control_change channel=6 control=101 value=0 time=0\n",
      "control_change channel=6 control=100 value=0 time=0\n",
      "control_change channel=6 control=6 value=12 time=0\n",
      "control_change channel=6 control=10 value=64 time=0\n",
      "control_change channel=6 control=7 value=100 time=0\n",
      "pitchwheel channel=6 pitch=0 time=0\n",
      "program_change channel=6 program=0 time=0\n",
      "control_change channel=6 control=101 value=0 time=0\n",
      "control_change channel=6 control=100 value=0 time=0\n",
      "control_change channel=6 control=6 value=12 time=0\n",
      "control_change channel=6 control=10 value=64 time=0\n",
      "control_change channel=6 control=7 value=100 time=0\n",
      "pitchwheel channel=6 pitch=0 time=0\n",
      "program_change channel=6 program=0 time=0\n",
      "note_on channel=6 note=50 velocity=122 time=0\n",
      "control_change channel=6 control=101 value=0 time=0\n",
      "control_change channel=6 control=100 value=0 time=0\n",
      "control_change channel=6 control=6 value=12 time=0\n",
      "control_change channel=6 control=10 value=64 time=0\n",
      "control_change channel=6 control=7 value=100 time=0\n",
      "pitchwheel channel=6 pitch=0 time=0\n",
      "program_change channel=6 program=0 time=0\n",
      "note_off channel=6 note=50 velocity=64 time=0.48\n",
      "note_on channel=6 note=51 velocity=122 time=0\n",
      "note_off channel=6 note=51 velocity=64 time=0.48\n",
      "note_on channel=6 note=50 velocity=122 time=0\n",
      "note_off channel=6 note=50 velocity=64 time=0.24\n",
      "note_on channel=6 note=53 velocity=122 time=0\n",
      "note_off channel=6 note=53 velocity=64 time=0.24\n",
      "note_on channel=6 note=51 velocity=122 time=0\n",
      "note_off channel=6 note=51 velocity=64 time=0.48\n",
      "note_on channel=6 note=50 velocity=122 time=0\n",
      "note_off channel=6 note=50 velocity=64 time=0.48\n",
      "note_on channel=6 note=51 velocity=122 time=0\n",
      "note_off channel=6 note=51 velocity=64 time=0.48\n",
      "note_on channel=6 note=50 velocity=122 time=0\n",
      "note_off channel=6 note=50 velocity=64 time=0.24\n",
      "note_on channel=6 note=53 velocity=122 time=0\n"
     ]
    },
    {
     "ename": "KeyboardInterrupt",
     "evalue": "",
     "output_type": "error",
     "traceback": [
      "\u001b[1;31m---------------------------------------------------------------------------\u001b[0m",
      "\u001b[1;31mKeyboardInterrupt\u001b[0m                         Traceback (most recent call last)",
      "\u001b[1;32m<ipython-input-5-ab6971ade84d>\u001b[0m in \u001b[0;36m<module>\u001b[1;34m\u001b[0m\n\u001b[0;32m      1\u001b[0m \u001b[0mmidfile\u001b[0m \u001b[1;33m=\u001b[0m \u001b[0mmido\u001b[0m\u001b[1;33m.\u001b[0m\u001b[0mMidiFile\u001b[0m\u001b[1;33m(\u001b[0m\u001b[1;34m'Crab-Rave_4.mid'\u001b[0m\u001b[1;33m)\u001b[0m\u001b[1;33m\u001b[0m\u001b[1;33m\u001b[0m\u001b[0m\n\u001b[1;32m----> 2\u001b[1;33m \u001b[1;32mfor\u001b[0m \u001b[0mmsg\u001b[0m \u001b[1;32min\u001b[0m \u001b[0mmidfile\u001b[0m\u001b[1;33m.\u001b[0m\u001b[0mplay\u001b[0m\u001b[1;33m(\u001b[0m\u001b[1;33m)\u001b[0m\u001b[1;33m:\u001b[0m\u001b[1;33m\u001b[0m\u001b[1;33m\u001b[0m\u001b[0m\n\u001b[0m\u001b[0;32m      3\u001b[0m     \u001b[0mprint\u001b[0m\u001b[1;33m(\u001b[0m\u001b[0mmsg\u001b[0m\u001b[1;33m)\u001b[0m\u001b[1;33m\u001b[0m\u001b[1;33m\u001b[0m\u001b[0m\n\u001b[0;32m      4\u001b[0m     \u001b[1;32mif\u001b[0m \u001b[0mmsg\u001b[0m\u001b[1;33m.\u001b[0m\u001b[0mtype\u001b[0m \u001b[1;33m==\u001b[0m \u001b[1;34m'note_on'\u001b[0m \u001b[1;32mor\u001b[0m \u001b[0mmsg\u001b[0m\u001b[1;33m.\u001b[0m\u001b[0mtype\u001b[0m \u001b[1;33m==\u001b[0m \u001b[1;34m'note_off'\u001b[0m\u001b[1;33m:\u001b[0m\u001b[1;33m\u001b[0m\u001b[1;33m\u001b[0m\u001b[0m\n\u001b[0;32m      5\u001b[0m         \u001b[0mmsg\u001b[0m\u001b[1;33m.\u001b[0m\u001b[0mchannel\u001b[0m \u001b[1;33m+=\u001b[0m \u001b[1;36m1\u001b[0m\u001b[1;33m\u001b[0m\u001b[1;33m\u001b[0m\u001b[0m\n",
      "\u001b[1;32mC:\\Python39\\lib\\site-packages\\mido\\midifiles\\midifiles.py\u001b[0m in \u001b[0;36mplay\u001b[1;34m(self, meta_messages)\u001b[0m\n\u001b[0;32m    419\u001b[0m \u001b[1;33m\u001b[0m\u001b[0m\n\u001b[0;32m    420\u001b[0m             \u001b[1;32mif\u001b[0m \u001b[0mduration_to_next_event\u001b[0m \u001b[1;33m>\u001b[0m \u001b[1;36m0.0\u001b[0m\u001b[1;33m:\u001b[0m\u001b[1;33m\u001b[0m\u001b[1;33m\u001b[0m\u001b[0m\n\u001b[1;32m--> 421\u001b[1;33m                 \u001b[0mtime\u001b[0m\u001b[1;33m.\u001b[0m\u001b[0msleep\u001b[0m\u001b[1;33m(\u001b[0m\u001b[0mduration_to_next_event\u001b[0m\u001b[1;33m)\u001b[0m\u001b[1;33m\u001b[0m\u001b[1;33m\u001b[0m\u001b[0m\n\u001b[0m\u001b[0;32m    422\u001b[0m \u001b[1;33m\u001b[0m\u001b[0m\n\u001b[0;32m    423\u001b[0m             \u001b[1;32mif\u001b[0m \u001b[0misinstance\u001b[0m\u001b[1;33m(\u001b[0m\u001b[0mmsg\u001b[0m\u001b[1;33m,\u001b[0m \u001b[0mMetaMessage\u001b[0m\u001b[1;33m)\u001b[0m \u001b[1;32mand\u001b[0m \u001b[1;32mnot\u001b[0m \u001b[0mmeta_messages\u001b[0m\u001b[1;33m:\u001b[0m\u001b[1;33m\u001b[0m\u001b[1;33m\u001b[0m\u001b[0m\n",
      "\u001b[1;31mKeyboardInterrupt\u001b[0m: "
     ]
    }
   ],
   "source": []
  },
  {
   "cell_type": "code",
   "execution_count": 4,
   "metadata": {},
   "outputs": [
    {
     "data": {
      "text/plain": [
       "[107, 32, 97, 32, 44, 32, 110, 32, 97, 32, 44, 32, 116, 32, 97]"
      ]
     },
     "execution_count": 4,
     "metadata": {},
     "output_type": "execute_result"
    }
   ],
   "source": [
    "phoneme = list('ka,na,ta'.encode('utf-8'))\n",
    "for x in range(len(phoneme) - 1):\n",
    "    phoneme.insert(x*2 + 1, 32)\n",
    "phoneme"
   ]
  },
  {
   "cell_type": "code",
   "execution_count": 18,
   "metadata": {},
   "outputs": [],
   "source": [
    "message = mido.Message('control_change', control=7, value=0x7F)"
   ]
  },
  {
   "cell_type": "code",
   "execution_count": 13,
   "metadata": {},
   "outputs": [
    {
     "data": {
      "text/plain": [
       "(Message('sysex', data=(67, 121, 9, 0, 80, 16, 107, 32, 97, 32, 44, 32, 110, 32, 97, 32, 44, 32, 116, 32, 97, 0), time=0),\n",
       " 'F0 43 79 09 00 50 10 6B 20 61 20 2C 20 6E 20 61 20 2C 20 74 20 61 00 F7')"
      ]
     },
     "execution_count": 13,
     "metadata": {},
     "output_type": "execute_result"
    }
   ],
   "source": [
    "message = mido.Message('sysex', data=[0x43, 0x79, 0x09, 0x00, 0x50, 0x10] + phoneme + [0x00])\n",
    "message, message.hex()"
   ]
  },
  {
   "cell_type": "code",
   "execution_count": 6,
   "metadata": {},
   "outputs": [
    {
     "data": {
      "text/plain": [
       "Message('sysex', data=(67, 121, 9, 0, 80, 16, 107, 32, 97, 0), time=0)"
      ]
     },
     "execution_count": 6,
     "metadata": {},
     "output_type": "execute_result"
    }
   ],
   "source": [
    "message = mido.Message.from_hex('f0 43 79 09 00 50 10 6b 20 61 00 f7')\n",
    "message"
   ]
  },
  {
   "cell_type": "code",
   "execution_count": 19,
   "metadata": {},
   "outputs": [],
   "source": [
    "outport.send(message)"
   ]
  },
  {
   "cell_type": "code",
   "execution_count": 31,
   "metadata": {},
   "outputs": [],
   "source": [
    "note_message = mido.Message('note_on', note=69, velocity=127)\n",
    "outport.send(note_message)"
   ]
  },
  {
   "cell_type": "code",
   "execution_count": 27,
   "metadata": {},
   "outputs": [],
   "source": [
    "outport.send(mido.Message('note_off', note=69, velocity=100))"
   ]
  },
  {
   "cell_type": "code",
   "execution_count": 30,
   "metadata": {},
   "outputs": [],
   "source": [
    "outport.close()"
   ]
  }
 ],
 "metadata": {
  "interpreter": {
   "hash": "21159c233fe05437f645951cde310fe56b5456bce8fd09176ecdb4134a489299"
  },
  "kernelspec": {
   "display_name": "Python 3.9.5 64-bit",
   "language": "python",
   "name": "python3"
  },
  "language_info": {
   "codemirror_mode": {
    "name": "ipython",
    "version": 3
   },
   "file_extension": ".py",
   "mimetype": "text/x-python",
   "name": "python",
   "nbconvert_exporter": "python",
   "pygments_lexer": "ipython3",
   "version": "3.9.2"
  },
  "orig_nbformat": 4
 },
 "nbformat": 4,
 "nbformat_minor": 2
}
