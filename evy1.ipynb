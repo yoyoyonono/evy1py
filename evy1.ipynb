{
 "cells": [
  {
   "cell_type": "code",
   "execution_count": 1,
   "metadata": {},
   "outputs": [],
   "source": [
    "import mido"
   ]
  },
  {
   "cell_type": "code",
   "execution_count": 2,
   "metadata": {},
   "outputs": [
    {
     "data": {
      "text/plain": [
       "['Microsoft GS Wavetable Synth 0',\n",
       " 'Focusrite USB MIDI 1',\n",
       " 'LoopBe Internal MIDI 2',\n",
       " 'eVY1 MIDI 3']"
      ]
     },
     "execution_count": 2,
     "metadata": {},
     "output_type": "execute_result"
    }
   ],
   "source": [
    "mido.get_output_names()"
   ]
  },
  {
   "cell_type": "code",
   "execution_count": 3,
   "metadata": {},
   "outputs": [
    {
     "data": {
      "text/plain": [
       "<open output 'eVY1 MIDI 3' (RtMidi/WINDOWS_MM)>"
      ]
     },
     "execution_count": 3,
     "metadata": {},
     "output_type": "execute_result"
    }
   ],
   "source": [
    "outport = mido.open_output(mido.get_output_names()[3])\n",
    "outport"
   ]
  },
  {
   "cell_type": "code",
   "execution_count": 82,
   "metadata": {},
   "outputs": [
    {
     "data": {
      "text/plain": [
       "[107, 32, 97, 32, 44, 32, 110, 32, 97, 32, 44, 32, 116, 32, 97]"
      ]
     },
     "execution_count": 82,
     "metadata": {},
     "output_type": "execute_result"
    }
   ],
   "source": [
    "phoneme = list('ka,na,ta'.encode('utf-8'))\n",
    "for x in range(len(phoneme) - 1):\n",
    "    phoneme.insert(x*2 + 1, 32)\n",
    "phoneme"
   ]
  },
  {
   "cell_type": "code",
   "execution_count": 83,
   "metadata": {},
   "outputs": [
    {
     "data": {
      "text/plain": [
       "(Message('sysex', data=(67, 121, 9, 0, 80, 16, 107, 32, 97, 32, 44, 32, 110, 32, 97, 32, 44, 32, 116, 32, 97, 0), time=0),\n",
       " 'F0 43 79 09 00 50 10 6B 20 61 20 2C 20 6E 20 61 20 2C 20 74 20 61 00 F7')"
      ]
     },
     "execution_count": 83,
     "metadata": {},
     "output_type": "execute_result"
    }
   ],
   "source": [
    "message = mido.Message('sysex', data=[0x43, 0x79, 0x09, 0x00, 0x50, 0x10] + phoneme + [0x00])\n",
    "message, message.hex()"
   ]
  },
  {
   "cell_type": "code",
   "execution_count": 73,
   "metadata": {},
   "outputs": [
    {
     "data": {
      "text/plain": [
       "Message('sysex', data=(67, 121, 9, 0, 80, 16, 107, 32, 97, 0), time=0)"
      ]
     },
     "execution_count": 73,
     "metadata": {},
     "output_type": "execute_result"
    }
   ],
   "source": [
    "message = mido.Message.from_hex('f0 43 79 09 00 50 10 6b 20 61 00 f7')\n",
    "message"
   ]
  },
  {
   "cell_type": "code",
   "execution_count": 74,
   "metadata": {},
   "outputs": [],
   "source": [
    "outport.send(message)"
   ]
  },
  {
   "cell_type": "code",
   "execution_count": 79,
   "metadata": {},
   "outputs": [],
   "source": [
    "note_message = mido.Message('note_on', note=60, velocity=127)\n",
    "outport.send(note_message)"
   ]
  },
  {
   "cell_type": "code",
   "execution_count": 80,
   "metadata": {},
   "outputs": [],
   "source": [
    "outport.send(mido.Message('note_off', note=60, velocity=100))"
   ]
  },
  {
   "cell_type": "code",
   "execution_count": 11,
   "metadata": {},
   "outputs": [],
   "source": [
    "outport.close()"
   ]
  }
 ],
 "metadata": {
  "interpreter": {
   "hash": "21159c233fe05437f645951cde310fe56b5456bce8fd09176ecdb4134a489299"
  },
  "kernelspec": {
   "display_name": "Python 3.9.5 64-bit",
   "language": "python",
   "name": "python3"
  },
  "language_info": {
   "codemirror_mode": {
    "name": "ipython",
    "version": 3
   },
   "file_extension": ".py",
   "mimetype": "text/x-python",
   "name": "python",
   "nbconvert_exporter": "python",
   "pygments_lexer": "ipython3",
   "version": "3.9.5"
  },
  "orig_nbformat": 4
 },
 "nbformat": 4,
 "nbformat_minor": 2
}
